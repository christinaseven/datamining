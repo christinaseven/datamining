{
 "cells": [
  {
   "cell_type": "markdown",
   "metadata": {},
   "source": [
    "# Optimization\n",
    "project1"
   ]
  },
  {
   "cell_type": "code",
   "execution_count": 1,
   "metadata": {},
   "outputs": [],
   "source": [
    "import pandas as pd;\n",
    "import numpy as np;\n",
    "data= pd.read_excel(\"C:/Users/Christina/Desktop/ΜΕΤΑΠΤΥΧΙΑΚΟ/βελτιστοποίηση/PROJECT-1/mydata.xlsx\", header=None)"
   ]
  },
  {
   "cell_type": "code",
   "execution_count": 2,
   "metadata": {},
   "outputs": [],
   "source": [
    "data.to_csv(\"mydata.csv\")"
   ]
  },
  {
   "cell_type": "code",
   "execution_count": 3,
   "metadata": {},
   "outputs": [
    {
     "data": {
      "text/plain": [
       "(30, 2)"
      ]
     },
     "execution_count": 3,
     "metadata": {},
     "output_type": "execute_result"
    }
   ],
   "source": [
    "data.shape"
   ]
  },
  {
   "cell_type": "code",
   "execution_count": 4,
   "metadata": {},
   "outputs": [],
   "source": [
    "data.columns= ['Day','Covid Cases']"
   ]
  },
  {
   "cell_type": "code",
   "execution_count": 5,
   "metadata": {},
   "outputs": [
    {
     "name": "stdout",
     "output_type": "stream",
     "text": [
      "   Day  Covid Cases\n",
      "0    1        23060\n",
      "1    2        23495\n",
      "2    3        23947\n",
      "3    4        24450\n",
      "4    5        24932\n"
     ]
    }
   ],
   "source": [
    "print(data.head(5))"
   ]
  },
  {
   "cell_type": "code",
   "execution_count": 6,
   "metadata": {},
   "outputs": [
    {
     "data": {
      "image/png": "[encoded data removed]",
      "text/plain": [
       "<Figure size 432x288 with 1 Axes>"
      ]
     },
     "metadata": {
      "needs_background": "light"
     },
     "output_type": "display_data"
    }
   ],
   "source": [
    "import matplotlib as plt\n",
    "import matplotlib.pyplot as plt\n",
    "data.plot('Day')\n",
    "plt.show()"
   ]
  },
  {
   "cell_type": "markdown",
   "metadata": {},
   "source": [
    "This plot shows for each day how many cases we have in country in total. Example: until day 15 we have approx 35000 cases in total in country, from the beginning of virus. Below we will scale data. Days will be in range [0.1,3] and cases in range [2,7] "
   ]
  },
  {
   "cell_type": "code",
   "execution_count": 7,
   "metadata": {},
   "outputs": [],
   "source": [
    "array=data.values\n",
    "X = array[:,0]\n",
    "Y = array[:,1]"
   ]
  },
  {
   "cell_type": "code",
   "execution_count": 8,
   "metadata": {
    "scrolled": false
   },
   "outputs": [
    {
     "data": {
      "text/plain": [
       "array([ 1,  2,  3,  4,  5,  6,  7,  8,  9, 10, 11, 12, 13, 14, 15, 16, 17,\n",
       "       18, 19, 20, 21, 22, 23, 24, 25, 26, 27, 28, 29, 30], dtype=int64)"
      ]
     },
     "execution_count": 8,
     "metadata": {},
     "output_type": "execute_result"
    }
   ],
   "source": [
    "X"
   ]
  },
  {
   "cell_type": "code",
   "execution_count": 9,
   "metadata": {},
   "outputs": [],
   "source": [
    "X_scaled = []\n",
    "Y_scaled= []\n",
    "for i in X:\n",
    "    X_scaled.append(X[i-1]/10)\n",
    "    Y_scaled.append(Y[i-1]/10000)\n",
    "    "
   ]
  },
  {
   "cell_type": "code",
   "execution_count": 10,
   "metadata": {},
   "outputs": [],
   "source": [
    "x = np.array(X_scaled)\n",
    "y = np.array(Y_scaled)"
   ]
  },
  {
   "cell_type": "code",
   "execution_count": 13,
   "metadata": {},
   "outputs": [],
   "source": [
    "import sympy as sym\n",
    "a0, a1, a2, a3, a4 = sym.symbols( 'a0 a1 a2 a3 a4')"
   ]
  },
  {
   "cell_type": "code",
   "execution_count": 69,
   "metadata": {},
   "outputs": [],
   "source": [
    "import math\n",
    "list = []\n",
    "for i in X:\n",
    "    list.append( (a0 + a1*x[i-1] + a2*math.pow(x[i-1],2) + a3*math.pow(x[i-1],3) + a4*math.pow(x[i-1],4) - y[i-1]) ** 2)"
   ]
  },
  {
   "cell_type": "code",
   "execution_count": 70,
   "metadata": {},
   "outputs": [
    {
     "data": {
      "text/latex": [
       "$\\displaystyle 5.317636 \\left(0.433651344319167 a_{0} + 0.0433651344319167 a_{1} + 0.00433651344319167 a_{2} + 0.000433651344319167 a_{3} + 4.33651344319167 \\cdot 10^{-5} a_{4} - 1\\right)^{2}$"
      ],
      "text/plain": [
       "5.317636*(0.433651344319167*a0 + 0.0433651344319167*a1 + 0.00433651344319167*a2 + 0.000433651344319167*a3 + 4.33651344319167e-5*a4 - 1)**2"
      ]
     },
     "execution_count": 70,
     "metadata": {},
     "output_type": "execute_result"
    }
   ],
   "source": [
    "list[0]"
   ]
  },
  {
   "cell_type": "markdown",
   "metadata": {},
   "source": [
    "# its okay this strange result, its correct I checked it! Look:"
   ]
  },
  {
   "cell_type": "code",
   "execution_count": 71,
   "metadata": {},
   "outputs": [],
   "source": [
    "triallist = []\n",
    "for i in X:\n",
    "    triallist.append( (a0 + a1*x[i-1] + a2*math.pow(x[i-1],2) + a3*math.pow(x[i-1],3) + a4*math.pow(x[i-1],4) - y[i-1]))"
   ]
  },
  {
   "cell_type": "code",
   "execution_count": 72,
   "metadata": {},
   "outputs": [
    {
     "data": {
      "text/latex": [
       "$\\displaystyle a_{0} + 0.1 a_{1} + 0.01 a_{2} + 0.001 a_{3} + 0.0001 a_{4} - 2.306$"
      ],
      "text/plain": [
       "a0 + 0.1*a1 + 0.01*a2 + 0.001*a3 + 0.0001*a4 - 2.306"
      ]
     },
     "execution_count": 72,
     "metadata": {},
     "output_type": "execute_result"
    }
   ],
   "source": [
    "triallist[0]"
   ]
  },
  {
   "cell_type": "code",
   "execution_count": 73,
   "metadata": {
    "scrolled": true
   },
   "outputs": [
    {
     "data": {
      "text/latex": [
       "$\\displaystyle 5.317636 \\left(0.433651344319167 a_{0} + 0.0433651344319167 a_{1} + 0.00433651344319167 a_{2} + 0.000433651344319167 a_{3} + 4.33651344319167 \\cdot 10^{-5} a_{4} - 1\\right)^{2}$"
      ],
      "text/plain": [
       "5.317636*(0.433651344319167*a0 + 0.0433651344319167*a1 + 0.00433651344319167*a2 + 0.000433651344319167*a3 + 4.33651344319167e-5*a4 - 1)**2"
      ]
     },
     "execution_count": 73,
     "metadata": {},
     "output_type": "execute_result"
    }
   ],
   "source": [
    "triallist[0] * triallist[0]"
   ]
  },
  {
   "cell_type": "markdown",
   "metadata": {},
   "source": [
    "# Function f(a)"
   ]
  },
  {
   "cell_type": "code",
   "execution_count": 77,
   "metadata": {},
   "outputs": [],
   "source": [
    "fa=sum(list) #this is our function"
   ]
  },
  {
   "cell_type": "markdown",
   "metadata": {},
   "source": [
    "# Derivatives"
   ]
  },
  {
   "cell_type": "code",
   "execution_count": 78,
   "metadata": {},
   "outputs": [],
   "source": [
    "#derivatives\n",
    "da0= sym.diff(fa, a0)\n",
    "da1= sym.diff(fa, a1)\n",
    "da2= sym.diff(fa, a2)\n",
    "da3= sym.diff(fa, a3)\n",
    "da4= sym.diff(fa, a4)"
   ]
  },
  {
   "cell_type": "code",
   "execution_count": 83,
   "metadata": {},
   "outputs": [],
   "source": [
    "gradientfa=[]\n",
    "gradientfa.append(da0)\n",
    "gradientfa.append(da1)\n",
    "gradientfa.append(da2)\n",
    "gradientfa.append(da3)\n",
    "gradientfa.append(da4)"
   ]
  },
  {
   "cell_type": "markdown",
   "metadata": {},
   "source": [
    "# Gradient"
   ]
  },
  {
   "cell_type": "code",
   "execution_count": 89,
   "metadata": {},
   "outputs": [],
   "source": [
    "gradientfa = np.array(gradientfa) # THE GRADIENT OF f"
   ]
  },
  {
   "cell_type": "code",
   "execution_count": 99,
   "metadata": {},
   "outputs": [
    {
     "data": {
      "text/latex": [
       "$\\displaystyle 1054.7998 a_{0} + 2679.7485 a_{1} + 7001.86243 a_{2} + 18674.502765 a_{3} + 50592.37331998 a_{4} - 5598.92290578$"
      ],
      "text/plain": [
       "1054.7998*a0 + 2679.7485*a1 + 7001.86243*a2 + 18674.502765*a3 + 50592.37331998*a4 - 5598.92290578"
      ]
     },
     "execution_count": 99,
     "metadata": {},
     "output_type": "execute_result"
    }
   ],
   "source": [
    "gradientfa[4] "
   ]
  },
  {
   "cell_type": "markdown",
   "metadata": {},
   "source": [
    "# Second derivatives"
   ]
  },
  {
   "cell_type": "code",
   "execution_count": 113,
   "metadata": {},
   "outputs": [],
   "source": [
    "#second derivatives of a0\n",
    "dda0_a0=sym.diff(da0, a0)\n",
    "dda0_a1=sym.diff(da0, a1)\n",
    "dda0_a2=sym.diff(da0, a2)\n",
    "dda0_a3=sym.diff(da0, a3)\n",
    "dda0_a4=sym.diff(da0, a4)"
   ]
  },
  {
   "cell_type": "code",
   "execution_count": 114,
   "metadata": {},
   "outputs": [],
   "source": [
    "#second derivatives of a1\n",
    "dda1_a0=sym.diff(da1, a0)\n",
    "dda1_a1=sym.diff(da1, a1)\n",
    "dda1_a2=sym.diff(da1, a2)\n",
    "dda1_a3=sym.diff(da1, a3)\n",
    "dda1_a4=sym.diff(da1, a4)"
   ]
  },
  {
   "cell_type": "code",
   "execution_count": 115,
   "metadata": {},
   "outputs": [],
   "source": [
    "#second derivatives of a2\n",
    "dda2_a0=sym.diff(da2, a0)\n",
    "dda2_a1=sym.diff(da2, a1)\n",
    "dda2_a2=sym.diff(da2, a2)\n",
    "dda2_a3=sym.diff(da2, a3)\n",
    "dda2_a4=sym.diff(da2, a4)"
   ]
  },
  {
   "cell_type": "code",
   "execution_count": 116,
   "metadata": {},
   "outputs": [],
   "source": [
    "#second derivatives of a3\n",
    "dda3_a0=sym.diff(da3, a0)\n",
    "dda3_a1=sym.diff(da3, a1)\n",
    "dda3_a2=sym.diff(da3, a2)\n",
    "dda3_a3=sym.diff(da3, a3)\n",
    "dda3_a4=sym.diff(da3, a4)"
   ]
  },
  {
   "cell_type": "code",
   "execution_count": 117,
   "metadata": {},
   "outputs": [],
   "source": [
    "#second derivatives of a3\n",
    "dda4_a0=sym.diff(da4, a0)\n",
    "dda4_a1=sym.diff(da4, a1)\n",
    "dda4_a2=sym.diff(da4, a2)\n",
    "dda4_a3=sym.diff(da4, a3)\n",
    "dda4_a4=sym.diff(da4, a4)"
   ]
  },
  {
   "cell_type": "markdown",
   "metadata": {},
   "source": [
    "# Hessian Matrix"
   ]
  },
  {
   "cell_type": "code",
   "execution_count": 123,
   "metadata": {},
   "outputs": [],
   "source": [
    "Hessian = np.array([[dda0_a0, dda0_a1, dda0_a2,dda0_a3,dda0_a4], [dda1_a0, dda1_a1, dda1_a2,dda1_a3,dda1_a4], \n",
    "                    [dda2_a0, dda2_a1, dda2_a2,dda2_a3,dda2_a4], [dda3_a0, dda3_a1, dda3_a2,dda3_a3,dda3_a4], \n",
    "                    [dda4_a0, dda4_a1, dda4_a2,dda4_a3,dda4_a4]])"
   ]
  },
  {
   "cell_type": "code",
   "execution_count": 125,
   "metadata": {},
   "outputs": [
    {
     "data": {
      "text/plain": [
       "(5, 5)"
      ]
     },
     "execution_count": 125,
     "metadata": {},
     "output_type": "execute_result"
    }
   ],
   "source": [
    "Hessian.shape"
   ]
  },
  {
   "cell_type": "code",
   "execution_count": 127,
   "metadata": {},
   "outputs": [
    {
     "data": {
      "text/latex": [
       "$\\displaystyle 60.0$"
      ],
      "text/plain": [
       "60.0000000000000"
      ]
     },
     "execution_count": 127,
     "metadata": {},
     "output_type": "execute_result"
    }
   ],
   "source": [
    "Hessian[0][0]"
   ]
  },
  {
   "cell_type": "code",
   "execution_count": null,
   "metadata": {},
   "outputs": [],
   "source": []
  }
 ],
 "metadata": {
  "kernelspec": {
   "display_name": "Python 3",
   "language": "python",
   "name": "python3"
  },
  "language_info": {
   "codemirror_mode": {
    "name": "ipython",
    "version": 3
   },
   "file_extension": ".py",
   "mimetype": "text/x-python",
   "name": "python",
   "nbconvert_exporter": "python",
   "pygments_lexer": "ipython3",
   "version": "3.7.6"
  }
 },
 "nbformat": 4,
 "nbformat_minor": 4
}
